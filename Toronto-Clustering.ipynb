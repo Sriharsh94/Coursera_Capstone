{
 "cells": [
  {
   "cell_type": "markdown",
   "metadata": {},
   "source": [
    "## Part-1&2 Installed lib for web scrapping and furthuer analysis"
   ]
  },
  {
   "cell_type": "code",
   "execution_count": 1,
   "metadata": {},
   "outputs": [
    {
     "name": "stdout",
     "output_type": "stream",
     "text": [
      "Requirement already satisfied: lxml in c:\\programdata\\anaconda3\\lib\\site-packages (4.5.2)Note: you may need to restart the kernel to use updated packages.\n",
      "Requirement already satisfied: html5lib in c:\\programdata\\anaconda3\\lib\\site-packages (1.1)\n",
      "Requirement already satisfied: beautifulsoup4 in c:\\programdata\\anaconda3\\lib\\site-packages (4.9.1)\n",
      "Requirement already satisfied: six>=1.9 in c:\\programdata\\anaconda3\\lib\\site-packages (from html5lib) (1.15.0)\n",
      "Requirement already satisfied: webencodings in c:\\programdata\\anaconda3\\lib\\site-packages (from html5lib) (0.5.1)\n",
      "Requirement already satisfied: soupsieve>1.2 in c:\\programdata\\anaconda3\\lib\\site-packages (from beautifulsoup4) (2.0.1)\n",
      "\n"
     ]
    }
   ],
   "source": [
    "pip install lxml html5lib beautifulsoup4"
   ]
  },
  {
   "cell_type": "code",
   "execution_count": 2,
   "metadata": {},
   "outputs": [],
   "source": [
    "import pandas as pd"
   ]
  },
  {
   "cell_type": "code",
   "execution_count": 3,
   "metadata": {},
   "outputs": [
    {
     "name": "stdout",
     "output_type": "stream",
     "text": [
      "3\n"
     ]
    }
   ],
   "source": [
    "url = 'https://en.wikipedia.org/wiki/List_of_postal_codes_of_Canada:_M'\n",
    "dfs = pd.read_html(url, index_col=0) # setting postal code as index column\n",
    "\n",
    "print(len(dfs))"
   ]
  },
  {
   "cell_type": "code",
   "execution_count": 4,
   "metadata": {},
   "outputs": [
    {
     "data": {
      "text/html": [
       "<div>\n",
       "<style scoped>\n",
       "    .dataframe tbody tr th:only-of-type {\n",
       "        vertical-align: middle;\n",
       "    }\n",
       "\n",
       "    .dataframe tbody tr th {\n",
       "        vertical-align: top;\n",
       "    }\n",
       "\n",
       "    .dataframe thead th {\n",
       "        text-align: right;\n",
       "    }\n",
       "</style>\n",
       "<table border=\"1\" class=\"dataframe\">\n",
       "  <thead>\n",
       "    <tr style=\"text-align: right;\">\n",
       "      <th></th>\n",
       "      <th>Borough</th>\n",
       "      <th>Neighbourhood</th>\n",
       "    </tr>\n",
       "    <tr>\n",
       "      <th>Postal Code</th>\n",
       "      <th></th>\n",
       "      <th></th>\n",
       "    </tr>\n",
       "  </thead>\n",
       "  <tbody>\n",
       "    <tr>\n",
       "      <th>M1A</th>\n",
       "      <td>Not assigned</td>\n",
       "      <td>Not assigned</td>\n",
       "    </tr>\n",
       "    <tr>\n",
       "      <th>M2A</th>\n",
       "      <td>Not assigned</td>\n",
       "      <td>Not assigned</td>\n",
       "    </tr>\n",
       "    <tr>\n",
       "      <th>M3A</th>\n",
       "      <td>North York</td>\n",
       "      <td>Parkwoods</td>\n",
       "    </tr>\n",
       "    <tr>\n",
       "      <th>M4A</th>\n",
       "      <td>North York</td>\n",
       "      <td>Victoria Village</td>\n",
       "    </tr>\n",
       "    <tr>\n",
       "      <th>M5A</th>\n",
       "      <td>Downtown Toronto</td>\n",
       "      <td>Regent Park, Harbourfront</td>\n",
       "    </tr>\n",
       "  </tbody>\n",
       "</table>\n",
       "</div>"
      ],
      "text/plain": [
       "                      Borough              Neighbourhood\n",
       "Postal Code                                             \n",
       "M1A              Not assigned               Not assigned\n",
       "M2A              Not assigned               Not assigned\n",
       "M3A                North York                  Parkwoods\n",
       "M4A                North York           Victoria Village\n",
       "M5A          Downtown Toronto  Regent Park, Harbourfront"
      ]
     },
     "execution_count": 4,
     "metadata": {},
     "output_type": "execute_result"
    }
   ],
   "source": [
    "df = dfs[0] #selecting our borough-neighbourhood dataframe for analysis.\n",
    "df.head()"
   ]
  },
  {
   "cell_type": "markdown",
   "metadata": {},
   "source": [
    "## Part -3 Creating the dataframe"
   ]
  },
  {
   "cell_type": "code",
   "execution_count": 5,
   "metadata": {},
   "outputs": [
    {
     "data": {
      "text/html": [
       "<div>\n",
       "<style scoped>\n",
       "    .dataframe tbody tr th:only-of-type {\n",
       "        vertical-align: middle;\n",
       "    }\n",
       "\n",
       "    .dataframe tbody tr th {\n",
       "        vertical-align: top;\n",
       "    }\n",
       "\n",
       "    .dataframe thead th {\n",
       "        text-align: right;\n",
       "    }\n",
       "</style>\n",
       "<table border=\"1\" class=\"dataframe\">\n",
       "  <thead>\n",
       "    <tr style=\"text-align: right;\">\n",
       "      <th></th>\n",
       "      <th>Borough</th>\n",
       "      <th>Neighbourhood</th>\n",
       "    </tr>\n",
       "    <tr>\n",
       "      <th>Postal Code</th>\n",
       "      <th></th>\n",
       "      <th></th>\n",
       "    </tr>\n",
       "  </thead>\n",
       "  <tbody>\n",
       "    <tr>\n",
       "      <th>M3A</th>\n",
       "      <td>North York</td>\n",
       "      <td>Parkwoods</td>\n",
       "    </tr>\n",
       "    <tr>\n",
       "      <th>M4A</th>\n",
       "      <td>North York</td>\n",
       "      <td>Victoria Village</td>\n",
       "    </tr>\n",
       "    <tr>\n",
       "      <th>M5A</th>\n",
       "      <td>Downtown Toronto</td>\n",
       "      <td>Regent Park, Harbourfront</td>\n",
       "    </tr>\n",
       "    <tr>\n",
       "      <th>M6A</th>\n",
       "      <td>North York</td>\n",
       "      <td>Lawrence Manor, Lawrence Heights</td>\n",
       "    </tr>\n",
       "    <tr>\n",
       "      <th>M7A</th>\n",
       "      <td>Downtown Toronto</td>\n",
       "      <td>Queen's Park, Ontario Provincial Government</td>\n",
       "    </tr>\n",
       "    <tr>\n",
       "      <th>M9A</th>\n",
       "      <td>Etobicoke</td>\n",
       "      <td>Islington Avenue, Humber Valley Village</td>\n",
       "    </tr>\n",
       "    <tr>\n",
       "      <th>M1B</th>\n",
       "      <td>Scarborough</td>\n",
       "      <td>Malvern, Rouge</td>\n",
       "    </tr>\n",
       "    <tr>\n",
       "      <th>M3B</th>\n",
       "      <td>North York</td>\n",
       "      <td>Don Mills</td>\n",
       "    </tr>\n",
       "    <tr>\n",
       "      <th>M4B</th>\n",
       "      <td>East York</td>\n",
       "      <td>Parkview Hill, Woodbine Gardens</td>\n",
       "    </tr>\n",
       "    <tr>\n",
       "      <th>M5B</th>\n",
       "      <td>Downtown Toronto</td>\n",
       "      <td>Garden District, Ryerson</td>\n",
       "    </tr>\n",
       "  </tbody>\n",
       "</table>\n",
       "</div>"
      ],
      "text/plain": [
       "                      Borough                                Neighbourhood\n",
       "Postal Code                                                               \n",
       "M3A                North York                                    Parkwoods\n",
       "M4A                North York                             Victoria Village\n",
       "M5A          Downtown Toronto                    Regent Park, Harbourfront\n",
       "M6A                North York             Lawrence Manor, Lawrence Heights\n",
       "M7A          Downtown Toronto  Queen's Park, Ontario Provincial Government\n",
       "M9A                 Etobicoke      Islington Avenue, Humber Valley Village\n",
       "M1B               Scarborough                               Malvern, Rouge\n",
       "M3B                North York                                    Don Mills\n",
       "M4B                 East York              Parkview Hill, Woodbine Gardens\n",
       "M5B          Downtown Toronto                     Garden District, Ryerson"
      ]
     },
     "execution_count": 5,
     "metadata": {},
     "output_type": "execute_result"
    }
   ],
   "source": [
    "df = df[df.Borough != 'Not assigned'] # Removing the 'Not assigned' values from borough\n",
    "df.head(10)"
   ]
  },
  {
   "cell_type": "code",
   "execution_count": 6,
   "metadata": {},
   "outputs": [],
   "source": [
    "df.reset_index(inplace=True)"
   ]
  },
  {
   "cell_type": "code",
   "execution_count": 7,
   "metadata": {},
   "outputs": [
    {
     "data": {
      "text/plain": [
       "(103, 3)"
      ]
     },
     "execution_count": 7,
     "metadata": {},
     "output_type": "execute_result"
    }
   ],
   "source": [
    "df.shape #Shape i.e rows*columns in the given dataframe"
   ]
  },
  {
   "cell_type": "markdown",
   "metadata": {},
   "source": [
    "## Part 4 Link to project and Lat-Long Co-ordinates"
   ]
  },
  {
   "cell_type": "code",
   "execution_count": 8,
   "metadata": {},
   "outputs": [
    {
     "data": {
      "text/html": [
       "<div>\n",
       "<style scoped>\n",
       "    .dataframe tbody tr th:only-of-type {\n",
       "        vertical-align: middle;\n",
       "    }\n",
       "\n",
       "    .dataframe tbody tr th {\n",
       "        vertical-align: top;\n",
       "    }\n",
       "\n",
       "    .dataframe thead th {\n",
       "        text-align: right;\n",
       "    }\n",
       "</style>\n",
       "<table border=\"1\" class=\"dataframe\">\n",
       "  <thead>\n",
       "    <tr style=\"text-align: right;\">\n",
       "      <th></th>\n",
       "      <th>Postal Code</th>\n",
       "      <th>Borough</th>\n",
       "      <th>Neighbourhood</th>\n",
       "    </tr>\n",
       "  </thead>\n",
       "  <tbody>\n",
       "    <tr>\n",
       "      <th>0</th>\n",
       "      <td>M3A</td>\n",
       "      <td>North York</td>\n",
       "      <td>Parkwoods</td>\n",
       "    </tr>\n",
       "    <tr>\n",
       "      <th>1</th>\n",
       "      <td>M4A</td>\n",
       "      <td>North York</td>\n",
       "      <td>Victoria Village</td>\n",
       "    </tr>\n",
       "    <tr>\n",
       "      <th>2</th>\n",
       "      <td>M5A</td>\n",
       "      <td>Downtown Toronto</td>\n",
       "      <td>Regent Park, Harbourfront</td>\n",
       "    </tr>\n",
       "    <tr>\n",
       "      <th>3</th>\n",
       "      <td>M6A</td>\n",
       "      <td>North York</td>\n",
       "      <td>Lawrence Manor, Lawrence Heights</td>\n",
       "    </tr>\n",
       "    <tr>\n",
       "      <th>4</th>\n",
       "      <td>M7A</td>\n",
       "      <td>Downtown Toronto</td>\n",
       "      <td>Queen's Park, Ontario Provincial Government</td>\n",
       "    </tr>\n",
       "  </tbody>\n",
       "</table>\n",
       "</div>"
      ],
      "text/plain": [
       "  Postal Code           Borough                                Neighbourhood\n",
       "0         M3A        North York                                    Parkwoods\n",
       "1         M4A        North York                             Victoria Village\n",
       "2         M5A  Downtown Toronto                    Regent Park, Harbourfront\n",
       "3         M6A        North York             Lawrence Manor, Lawrence Heights\n",
       "4         M7A  Downtown Toronto  Queen's Park, Ontario Provincial Government"
      ]
     },
     "execution_count": 8,
     "metadata": {},
     "output_type": "execute_result"
    }
   ],
   "source": [
    "df.head()"
   ]
  },
  {
   "cell_type": "code",
   "execution_count": 9,
   "metadata": {},
   "outputs": [
    {
     "data": {
      "text/html": [
       "<div>\n",
       "<style scoped>\n",
       "    .dataframe tbody tr th:only-of-type {\n",
       "        vertical-align: middle;\n",
       "    }\n",
       "\n",
       "    .dataframe tbody tr th {\n",
       "        vertical-align: top;\n",
       "    }\n",
       "\n",
       "    .dataframe thead th {\n",
       "        text-align: right;\n",
       "    }\n",
       "</style>\n",
       "<table border=\"1\" class=\"dataframe\">\n",
       "  <thead>\n",
       "    <tr style=\"text-align: right;\">\n",
       "      <th></th>\n",
       "      <th>Postal Code</th>\n",
       "      <th>Latitude</th>\n",
       "      <th>Longitude</th>\n",
       "    </tr>\n",
       "  </thead>\n",
       "  <tbody>\n",
       "    <tr>\n",
       "      <th>0</th>\n",
       "      <td>M1B</td>\n",
       "      <td>43.806686</td>\n",
       "      <td>-79.194353</td>\n",
       "    </tr>\n",
       "    <tr>\n",
       "      <th>1</th>\n",
       "      <td>M1C</td>\n",
       "      <td>43.784535</td>\n",
       "      <td>-79.160497</td>\n",
       "    </tr>\n",
       "    <tr>\n",
       "      <th>2</th>\n",
       "      <td>M1E</td>\n",
       "      <td>43.763573</td>\n",
       "      <td>-79.188711</td>\n",
       "    </tr>\n",
       "    <tr>\n",
       "      <th>3</th>\n",
       "      <td>M1G</td>\n",
       "      <td>43.770992</td>\n",
       "      <td>-79.216917</td>\n",
       "    </tr>\n",
       "    <tr>\n",
       "      <th>4</th>\n",
       "      <td>M1H</td>\n",
       "      <td>43.773136</td>\n",
       "      <td>-79.239476</td>\n",
       "    </tr>\n",
       "  </tbody>\n",
       "</table>\n",
       "</div>"
      ],
      "text/plain": [
       "  Postal Code   Latitude  Longitude\n",
       "0         M1B  43.806686 -79.194353\n",
       "1         M1C  43.784535 -79.160497\n",
       "2         M1E  43.763573 -79.188711\n",
       "3         M1G  43.770992 -79.216917\n",
       "4         M1H  43.773136 -79.239476"
      ]
     },
     "execution_count": 9,
     "metadata": {},
     "output_type": "execute_result"
    }
   ],
   "source": [
    "df_cord = pd.read_csv('Geospatial_Coordinates.csv')\n",
    "df_cord.head()"
   ]
  },
  {
   "cell_type": "code",
   "execution_count": 10,
   "metadata": {},
   "outputs": [
    {
     "data": {
      "text/plain": [
       "(103, 3)"
      ]
     },
     "execution_count": 10,
     "metadata": {},
     "output_type": "execute_result"
    }
   ],
   "source": [
    "df_cord.shape"
   ]
  },
  {
   "cell_type": "code",
   "execution_count": 11,
   "metadata": {},
   "outputs": [
    {
     "data": {
      "text/html": [
       "<div>\n",
       "<style scoped>\n",
       "    .dataframe tbody tr th:only-of-type {\n",
       "        vertical-align: middle;\n",
       "    }\n",
       "\n",
       "    .dataframe tbody tr th {\n",
       "        vertical-align: top;\n",
       "    }\n",
       "\n",
       "    .dataframe thead th {\n",
       "        text-align: right;\n",
       "    }\n",
       "</style>\n",
       "<table border=\"1\" class=\"dataframe\">\n",
       "  <thead>\n",
       "    <tr style=\"text-align: right;\">\n",
       "      <th></th>\n",
       "      <th>Postal Code</th>\n",
       "      <th>Borough</th>\n",
       "      <th>Neighbourhood</th>\n",
       "      <th>Latitude</th>\n",
       "      <th>Longitude</th>\n",
       "    </tr>\n",
       "  </thead>\n",
       "  <tbody>\n",
       "    <tr>\n",
       "      <th>0</th>\n",
       "      <td>M3A</td>\n",
       "      <td>North York</td>\n",
       "      <td>Parkwoods</td>\n",
       "      <td>43.753259</td>\n",
       "      <td>-79.329656</td>\n",
       "    </tr>\n",
       "    <tr>\n",
       "      <th>1</th>\n",
       "      <td>M4A</td>\n",
       "      <td>North York</td>\n",
       "      <td>Victoria Village</td>\n",
       "      <td>43.725882</td>\n",
       "      <td>-79.315572</td>\n",
       "    </tr>\n",
       "    <tr>\n",
       "      <th>2</th>\n",
       "      <td>M5A</td>\n",
       "      <td>Downtown Toronto</td>\n",
       "      <td>Regent Park, Harbourfront</td>\n",
       "      <td>43.654260</td>\n",
       "      <td>-79.360636</td>\n",
       "    </tr>\n",
       "    <tr>\n",
       "      <th>3</th>\n",
       "      <td>M6A</td>\n",
       "      <td>North York</td>\n",
       "      <td>Lawrence Manor, Lawrence Heights</td>\n",
       "      <td>43.718518</td>\n",
       "      <td>-79.464763</td>\n",
       "    </tr>\n",
       "    <tr>\n",
       "      <th>4</th>\n",
       "      <td>M7A</td>\n",
       "      <td>Downtown Toronto</td>\n",
       "      <td>Queen's Park, Ontario Provincial Government</td>\n",
       "      <td>43.662301</td>\n",
       "      <td>-79.389494</td>\n",
       "    </tr>\n",
       "  </tbody>\n",
       "</table>\n",
       "</div>"
      ],
      "text/plain": [
       "  Postal Code           Borough                                Neighbourhood  \\\n",
       "0         M3A        North York                                    Parkwoods   \n",
       "1         M4A        North York                             Victoria Village   \n",
       "2         M5A  Downtown Toronto                    Regent Park, Harbourfront   \n",
       "3         M6A        North York             Lawrence Manor, Lawrence Heights   \n",
       "4         M7A  Downtown Toronto  Queen's Park, Ontario Provincial Government   \n",
       "\n",
       "    Latitude  Longitude  \n",
       "0  43.753259 -79.329656  \n",
       "1  43.725882 -79.315572  \n",
       "2  43.654260 -79.360636  \n",
       "3  43.718518 -79.464763  \n",
       "4  43.662301 -79.389494  "
      ]
     },
     "execution_count": 11,
     "metadata": {},
     "output_type": "execute_result"
    }
   ],
   "source": [
    "df_lat_long = pd.merge(df,df_cord, on='Postal Code')\n",
    "df_lat_long.head()"
   ]
  },
  {
   "cell_type": "code",
   "execution_count": 12,
   "metadata": {},
   "outputs": [
    {
     "data": {
      "text/html": [
       "<div>\n",
       "<style scoped>\n",
       "    .dataframe tbody tr th:only-of-type {\n",
       "        vertical-align: middle;\n",
       "    }\n",
       "\n",
       "    .dataframe tbody tr th {\n",
       "        vertical-align: top;\n",
       "    }\n",
       "\n",
       "    .dataframe thead th {\n",
       "        text-align: right;\n",
       "    }\n",
       "</style>\n",
       "<table border=\"1\" class=\"dataframe\">\n",
       "  <thead>\n",
       "    <tr style=\"text-align: right;\">\n",
       "      <th></th>\n",
       "      <th>Postal Code</th>\n",
       "      <th>Borough</th>\n",
       "      <th>Neighbourhood</th>\n",
       "      <th>Latitude</th>\n",
       "      <th>Longitude</th>\n",
       "    </tr>\n",
       "  </thead>\n",
       "  <tbody>\n",
       "    <tr>\n",
       "      <th>0</th>\n",
       "      <td>M3A</td>\n",
       "      <td>North York</td>\n",
       "      <td>Parkwoods</td>\n",
       "      <td>43.753259</td>\n",
       "      <td>-79.329656</td>\n",
       "    </tr>\n",
       "    <tr>\n",
       "      <th>1</th>\n",
       "      <td>M4A</td>\n",
       "      <td>North York</td>\n",
       "      <td>Victoria Village</td>\n",
       "      <td>43.725882</td>\n",
       "      <td>-79.315572</td>\n",
       "    </tr>\n",
       "    <tr>\n",
       "      <th>2</th>\n",
       "      <td>M5A</td>\n",
       "      <td>Downtown Toronto</td>\n",
       "      <td>Regent Park, Harbourfront</td>\n",
       "      <td>43.654260</td>\n",
       "      <td>-79.360636</td>\n",
       "    </tr>\n",
       "    <tr>\n",
       "      <th>3</th>\n",
       "      <td>M6A</td>\n",
       "      <td>North York</td>\n",
       "      <td>Lawrence Manor, Lawrence Heights</td>\n",
       "      <td>43.718518</td>\n",
       "      <td>-79.464763</td>\n",
       "    </tr>\n",
       "    <tr>\n",
       "      <th>4</th>\n",
       "      <td>M7A</td>\n",
       "      <td>Downtown Toronto</td>\n",
       "      <td>Queen's Park, Ontario Provincial Government</td>\n",
       "      <td>43.662301</td>\n",
       "      <td>-79.389494</td>\n",
       "    </tr>\n",
       "  </tbody>\n",
       "</table>\n",
       "</div>"
      ],
      "text/plain": [
       "  Postal Code           Borough                                Neighbourhood  \\\n",
       "0         M3A        North York                                    Parkwoods   \n",
       "1         M4A        North York                             Victoria Village   \n",
       "2         M5A  Downtown Toronto                    Regent Park, Harbourfront   \n",
       "3         M6A        North York             Lawrence Manor, Lawrence Heights   \n",
       "4         M7A  Downtown Toronto  Queen's Park, Ontario Provincial Government   \n",
       "\n",
       "    Latitude  Longitude  \n",
       "0  43.753259 -79.329656  \n",
       "1  43.725882 -79.315572  \n",
       "2  43.654260 -79.360636  \n",
       "3  43.718518 -79.464763  \n",
       "4  43.662301 -79.389494  "
      ]
     },
     "execution_count": 12,
     "metadata": {},
     "output_type": "execute_result"
    }
   ],
   "source": [
    "df_lat_long.head()"
   ]
  },
  {
   "cell_type": "code",
   "execution_count": 13,
   "metadata": {},
   "outputs": [
    {
     "data": {
      "text/plain": [
       "(103, 5)"
      ]
     },
     "execution_count": 13,
     "metadata": {},
     "output_type": "execute_result"
    }
   ],
   "source": [
    "df_lat_long.shape"
   ]
  },
  {
   "cell_type": "markdown",
   "metadata": {},
   "source": [
    "## ` Part 5 Clustering neighbourhoods and mapping them"
   ]
  },
  {
   "cell_type": "code",
   "execution_count": 31,
   "metadata": {},
   "outputs": [
    {
     "data": {
      "text/plain": [
       "array(['North York', 'Downtown Toronto', 'Etobicoke', 'Scarborough',\n",
       "       'East York', 'York', 'East Toronto', 'West Toronto',\n",
       "       'Central Toronto', 'Mississauga'], dtype=object)"
      ]
     },
     "execution_count": 31,
     "metadata": {},
     "output_type": "execute_result"
    }
   ],
   "source": [
    "df_lat_long.Borough.unique()"
   ]
  },
  {
   "cell_type": "code",
   "execution_count": 44,
   "metadata": {},
   "outputs": [],
   "source": [
    "df_toronto = df_lat_long.loc[df_lat_long.Borough.str.contains('Toronto')] ##Selecting Boroughs that have thw word 'toronto' in it."
   ]
  },
  {
   "cell_type": "code",
   "execution_count": 57,
   "metadata": {},
   "outputs": [
    {
     "data": {
      "text/html": [
       "<div>\n",
       "<style scoped>\n",
       "    .dataframe tbody tr th:only-of-type {\n",
       "        vertical-align: middle;\n",
       "    }\n",
       "\n",
       "    .dataframe tbody tr th {\n",
       "        vertical-align: top;\n",
       "    }\n",
       "\n",
       "    .dataframe thead th {\n",
       "        text-align: right;\n",
       "    }\n",
       "</style>\n",
       "<table border=\"1\" class=\"dataframe\">\n",
       "  <thead>\n",
       "    <tr style=\"text-align: right;\">\n",
       "      <th></th>\n",
       "      <th>Postal Code</th>\n",
       "      <th>Borough</th>\n",
       "      <th>Neighbourhood</th>\n",
       "      <th>Latitude</th>\n",
       "      <th>Longitude</th>\n",
       "    </tr>\n",
       "  </thead>\n",
       "  <tbody>\n",
       "    <tr>\n",
       "      <th>9</th>\n",
       "      <td>M5B</td>\n",
       "      <td>Downtown Toronto</td>\n",
       "      <td>Garden District, Ryerson</td>\n",
       "      <td>43.657162</td>\n",
       "      <td>-79.378937</td>\n",
       "    </tr>\n",
       "    <tr>\n",
       "      <th>69</th>\n",
       "      <td>M6P</td>\n",
       "      <td>West Toronto</td>\n",
       "      <td>High Park, The Junction South</td>\n",
       "      <td>43.661608</td>\n",
       "      <td>-79.464763</td>\n",
       "    </tr>\n",
       "    <tr>\n",
       "      <th>79</th>\n",
       "      <td>M4S</td>\n",
       "      <td>Central Toronto</td>\n",
       "      <td>Davisville</td>\n",
       "      <td>43.704324</td>\n",
       "      <td>-79.388790</td>\n",
       "    </tr>\n",
       "    <tr>\n",
       "      <th>97</th>\n",
       "      <td>M5X</td>\n",
       "      <td>Downtown Toronto</td>\n",
       "      <td>First Canadian Place, Underground city</td>\n",
       "      <td>43.648429</td>\n",
       "      <td>-79.382280</td>\n",
       "    </tr>\n",
       "    <tr>\n",
       "      <th>41</th>\n",
       "      <td>M4K</td>\n",
       "      <td>East Toronto</td>\n",
       "      <td>The Danforth West, Riverdale</td>\n",
       "      <td>43.679557</td>\n",
       "      <td>-79.352188</td>\n",
       "    </tr>\n",
       "  </tbody>\n",
       "</table>\n",
       "</div>"
      ],
      "text/plain": [
       "   Postal Code           Borough                           Neighbourhood  \\\n",
       "9          M5B  Downtown Toronto                Garden District, Ryerson   \n",
       "69         M6P      West Toronto           High Park, The Junction South   \n",
       "79         M4S   Central Toronto                              Davisville   \n",
       "97         M5X  Downtown Toronto  First Canadian Place, Underground city   \n",
       "41         M4K      East Toronto            The Danforth West, Riverdale   \n",
       "\n",
       "     Latitude  Longitude  \n",
       "9   43.657162 -79.378937  \n",
       "69  43.661608 -79.464763  \n",
       "79  43.704324 -79.388790  \n",
       "97  43.648429 -79.382280  \n",
       "41  43.679557 -79.352188  "
      ]
     },
     "execution_count": 57,
     "metadata": {},
     "output_type": "execute_result"
    }
   ],
   "source": [
    "df_toronto.sample(5) ##Verifying or query"
   ]
  },
  {
   "cell_type": "code",
   "execution_count": 105,
   "metadata": {},
   "outputs": [
    {
     "data": {
      "text/plain": [
       "(39, 5)"
      ]
     },
     "execution_count": 105,
     "metadata": {},
     "output_type": "execute_result"
    }
   ],
   "source": [
    "df_toronto.shape"
   ]
  },
  {
   "cell_type": "code",
   "execution_count": 62,
   "metadata": {},
   "outputs": [],
   "source": [
    "#Importing import libraries\n",
    "from sklearn.cluster import KMeans\n",
    "import folium\n",
    "import matplotlib.cm as cm\n",
    "import matplotlib.colors as colors"
   ]
  },
  {
   "cell_type": "code",
   "execution_count": 103,
   "metadata": {},
   "outputs": [
    {
     "data": {
      "text/html": [
       "<div style=\"width:100%;\"><div style=\"position:relative;width:100%;height:0;padding-bottom:60%;\"><span style=\"color:#565656\">Make this Notebook Trusted to load map: File -> Trust Notebook</span><iframe src=\"about:blank\" style=\"position:absolute;width:100%;height:100%;left:0;top:0;border:none !important;\" data-html=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 onload=\"this.contentDocument.open();this.contentDocument.write(atob(this.getAttribute('data-html')));this.contentDocument.close();\" allowfullscreen webkitallowfullscreen mozallowfullscreen></iframe></div></div>"
      ],
      "text/plain": [
       "<folium.folium.Map at 0x291881914f0>"
      ]
     },
     "execution_count": 103,
     "metadata": {},
     "output_type": "execute_result"
    }
   ],
   "source": [
    "#plotting map of toronto with its coordinates taken from net\n",
    "\n",
    "map_toronto = folium.Map(width=550, height=450, location=[43.651070,-79.347015], zoom_start=11, min_zoom=10, max_zoom=14)\n",
    "\n",
    "folium.TileLayer('Stamen Terrain').add_to(map_toronto)#adding different types of terrain layers\n",
    "folium.TileLayer('Stamen Toner').add_to(map_toronto)\n",
    "folium.TileLayer('Stamen Water Color').add_to(map_toronto)\n",
    "folium.TileLayer('cartodbdark_matter').add_to(map_toronto)\n",
    "folium.LayerControl().add_to(map_toronto)  #stacking them neatly .i.e which one to use from top right corner icon.\n",
    "map_toronto"
   ]
  },
  {
   "cell_type": "code",
   "execution_count": 104,
   "metadata": {},
   "outputs": [
    {
     "data": {
      "text/plain": [
       "39"
      ]
     },
     "execution_count": 104,
     "metadata": {},
     "output_type": "execute_result"
    }
   ],
   "source": [
    "locations = df_toronto[['Latitude', 'Longitude']] # to map all location in my df\n",
    "locationlist = locations.values.tolist()  # adding all values in list\n",
    "len(locationlist)\n"
   ]
  },
  {
   "cell_type": "code",
   "execution_count": 110,
   "metadata": {},
   "outputs": [
    {
     "data": {
      "text/html": [
       "<div style=\"width:100%;\"><div style=\"position:relative;width:100%;height:0;padding-bottom:60%;\"><span style=\"color:#565656\">Make this Notebook Trusted to load map: File -> Trust Notebook</span><iframe src=\"about:blank\" style=\"position:absolute;width:100%;height:100%;left:0;top:0;border:none !important;\" data-html=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 onload=\"this.contentDocument.open();this.contentDocument.write(atob(this.getAttribute('data-html')));this.contentDocument.close();\" allowfullscreen webkitallowfullscreen mozallowfullscreen></iframe></div></div>"
      ],
      "text/plain": [
       "<folium.folium.Map at 0x2918817d8b0>"
      ]
     },
     "execution_count": 110,
     "metadata": {},
     "output_type": "execute_result"
    }
   ],
   "source": [
    "map = folium.Map(location=[43.651070, -79.347015], zoom_start=12) #plotting it in the map \n",
    "for point in range(0, len(locationlist)):\n",
    "    folium.Marker(locationlist[point], popup=df_toronto['Neighbourhood']).add_to(map)\n",
    "map"
   ]
  },
  {
   "cell_type": "code",
   "execution_count": 111,
   "metadata": {},
   "outputs": [
    {
     "data": {
      "text/plain": [
       "array([0, 0, 0, 0, 1, 0, 0, 3, 0, 2])"
      ]
     },
     "execution_count": 111,
     "metadata": {},
     "output_type": "execute_result"
    }
   ],
   "source": [
    "# set number of clusters\n",
    "kclusters = 5\n",
    "\n",
    "toronto_clustering = locationlist\n",
    "\n",
    "# run k-means clustering\n",
    "kmeans = KMeans(n_clusters=kclusters, random_state=0).fit(toronto_clustering)\n",
    "\n",
    "# check cluster labels generated for each row in the dataframe\n",
    "kmeans.labels_[0:10]"
   ]
  },
  {
   "cell_type": "code",
   "execution_count": null,
   "metadata": {},
   "outputs": [],
   "source": []
  },
  {
   "cell_type": "code",
   "execution_count": null,
   "metadata": {},
   "outputs": [],
   "source": []
  }
 ],
 "metadata": {
  "kernelspec": {
   "display_name": "Python 3",
   "language": "python",
   "name": "python3"
  },
  "language_info": {
   "codemirror_mode": {
    "name": "ipython",
    "version": 3
   },
   "file_extension": ".py",
   "mimetype": "text/x-python",
   "name": "python",
   "nbconvert_exporter": "python",
   "pygments_lexer": "ipython3",
   "version": "3.8.3"
  }
 },
 "nbformat": 4,
 "nbformat_minor": 4
}
